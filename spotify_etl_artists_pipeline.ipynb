{
  "cells": [
    {
      "cell_type": "markdown",
      "metadata": {
        "id": "view-in-github",
        "colab_type": "text"
      },
      "source": [
        "<a href=\"https://colab.research.google.com/github/uiliannunes/SPOTIFY_DATA/blob/main/spotify_etl_artists_pipeline.ipynb\" target=\"_parent\"><img src=\"https://colab.research.google.com/assets/colab-badge.svg\" alt=\"Open In Colab\"/></a>"
      ]
    },
    {
      "cell_type": "markdown",
      "id": "d8f6665a",
      "metadata": {
        "id": "d8f6665a"
      },
      "source": [
        "\n",
        "# 🎵 Spotify ETL Pipeline - Artistas Específicos\n",
        "\n",
        "Pipeline completo de ETL usando a API do Spotify, focado em artistas específicos.\n",
        "Este notebook coleta músicas de artistas específicos e salva os resultados.\n"
      ]
    },
    {
      "cell_type": "markdown",
      "id": "4782e3d5",
      "metadata": {
        "id": "4782e3d5"
      },
      "source": [
        "## 🔐 1. Autenticação e Setup"
      ]
    },
    {
      "cell_type": "code",
      "source": [
        "# 1) Instalar dependências\n",
        "!pip install --quiet spotipy==2.25.1 pyspark==3.4.1 pandas pyarrow\n",
        "print('Dependências instaladas')"
      ],
      "metadata": {
        "colab": {
          "base_uri": "https://localhost:8080/"
        },
        "id": "N0t4Bf_dczoK",
        "outputId": "3add6c68-9f97-4643-a570-35db8afa3005"
      },
      "id": "N0t4Bf_dczoK",
      "execution_count": 2,
      "outputs": [
        {
          "output_type": "stream",
          "name": "stdout",
          "text": [
            "\u001b[2K     \u001b[90m━━━━━━━━━━━━━━━━━━━━━━━━━━━━━━━━━━━━━━━\u001b[0m \u001b[32m310.8/310.8 MB\u001b[0m \u001b[31m1.6 MB/s\u001b[0m eta \u001b[36m0:00:00\u001b[0m\n",
            "\u001b[?25h  Preparing metadata (setup.py) ... \u001b[?25l\u001b[?25hdone\n",
            "\u001b[2K   \u001b[90m━━━━━━━━━━━━━━━━━━━━━━━━━━━━━━━━━━━━━━━━\u001b[0m \u001b[32m339.9/339.9 kB\u001b[0m \u001b[31m24.7 MB/s\u001b[0m eta \u001b[36m0:00:00\u001b[0m\n",
            "\u001b[?25h  Building wheel for pyspark (setup.py) ... \u001b[?25l\u001b[?25hdone\n",
            "\u001b[31mERROR: pip's dependency resolver does not currently take into account all the packages that are installed. This behaviour is the source of the following dependency conflicts.\n",
            "dataproc-spark-connect 0.8.3 requires pyspark[connect]~=3.5.1, but you have pyspark 3.4.1 which is incompatible.\u001b[0m\u001b[31m\n",
            "\u001b[0mDependências instaladas\n"
          ]
        }
      ]
    },
    {
      "cell_type": "code",
      "source": [
        "# 2) Montar Google Drive\n",
        "from google.colab import drive\n",
        "drive.mount('/content/drive')"
      ],
      "metadata": {
        "colab": {
          "base_uri": "https://localhost:8080/"
        },
        "id": "pL8jP2Ftdhqh",
        "outputId": "7ace7c29-255d-4cf7-cf68-2a86deb4b279"
      },
      "id": "pL8jP2Ftdhqh",
      "execution_count": 3,
      "outputs": [
        {
          "output_type": "stream",
          "name": "stdout",
          "text": [
            "Mounted at /content/drive\n"
          ]
        }
      ]
    },
    {
      "cell_type": "code",
      "source": [
        "# 3) Configurar paths no Drive\n",
        "import os\n",
        "DRIVE_BASE = '/content/drive/MyDrive/DATA_ENG/SPOTIFY_DATA'\n",
        "OUTPUT_CSV = os.path.join(DRIVE_BASE, 'output', 'csv')\n",
        "OUTPUT_PARQUET = os.path.join(DRIVE_BASE, 'output', 'parquet')\n",
        "os.makedirs(OUTPUT_CSV, exist_ok=True)\n",
        "os.makedirs(OUTPUT_PARQUET, exist_ok=True)\n",
        "print('Output CSV path:', OUTPUT_CSV)\n",
        "print('Output Parquet path:', OUTPUT_PARQUET)"
      ],
      "metadata": {
        "colab": {
          "base_uri": "https://localhost:8080/"
        },
        "id": "C4GflVIveHiX",
        "outputId": "d20c2735-41f2-497e-87b2-54692cff7fa2"
      },
      "id": "C4GflVIveHiX",
      "execution_count": 4,
      "outputs": [
        {
          "output_type": "stream",
          "name": "stdout",
          "text": [
            "Output CSV path: /content/drive/MyDrive/DATA_ENG/SPOTIFY_DATA/output/csv\n",
            "Output Parquet path: /content/drive/MyDrive/DATA_ENG/SPOTIFY_DATA/output/parquet\n"
          ]
        }
      ]
    },
    {
      "cell_type": "code",
      "execution_count": 5,
      "id": "2d69ceb3",
      "metadata": {
        "colab": {
          "base_uri": "https://localhost:8080/"
        },
        "id": "2d69ceb3",
        "outputId": "cb95a384-6614-4721-fb1d-68fc65c50df2"
      },
      "outputs": [
        {
          "output_type": "stream",
          "name": "stdout",
          "text": [
            "Autenticação Spotify bem-sucedida! ✅\n"
          ]
        }
      ],
      "source": [
        "# 4) Autenticação com SPOTIFY\n",
        "\n",
        "import pandas as pd\n",
        "import spotipy\n",
        "from spotipy.oauth2 import SpotifyClientCredentials\n",
        "from google.colab import userdata\n",
        "\n",
        "client_id = userdata.get('SPOTIPY_CLIENT_ID')\n",
        "client_secret = userdata.get('SPOTIPY_CLIENT_SECRET')\n",
        "\n",
        "sp = spotipy.Spotify(auth_manager=SpotifyClientCredentials(\n",
        "    client_id=client_id,\n",
        "    client_secret=client_secret\n",
        "))\n",
        "\n",
        "print(\"Autenticação Spotify bem-sucedida! ✅\")\n"
      ]
    },
    {
      "cell_type": "markdown",
      "id": "1275865f",
      "metadata": {
        "id": "1275865f"
      },
      "source": [
        "## 🎤 2. Extração de Tracks por Artista"
      ]
    },
    {
      "cell_type": "code",
      "execution_count": 6,
      "id": "1e3b4070",
      "metadata": {
        "colab": {
          "base_uri": "https://localhost:8080/",
          "height": 222
        },
        "collapsed": true,
        "id": "1e3b4070",
        "outputId": "253705c4-febe-45c5-837c-f66873398654"
      },
      "outputs": [
        {
          "output_type": "stream",
          "name": "stdout",
          "text": [
            "Total de faixas coletadas: 91\n"
          ]
        },
        {
          "output_type": "execute_result",
          "data": {
            "text/plain": [
              "     artist                track_name                track_id  \\\n",
              "0  Coldplay                    Sparks  7D0RhFcb3CrfPuTJ0obrod   \n",
              "1  Coldplay                  Paradise  6nek1Nin9q48AVZcWs9e9D   \n",
              "2  Coldplay       A Sky Full of Stars  0FDzzruyVECATHXKHFs9eJ   \n",
              "3  Coldplay  Something Just Like This  6RUKPb4LETWmmr3iAEQktW   \n",
              "4  Coldplay             The Scientist  75JFxkI2RXiU7L9VXzMkle   \n",
              "\n",
              "                         album release_date  popularity  \n",
              "0                   Parachutes   2000-07-10          90  \n",
              "1                  Mylo Xyloto   2011-10-24          84  \n",
              "2                Ghost Stories   2014-05-16          85  \n",
              "3       Memories...Do Not Open   2017-04-07          86  \n",
              "4  A Rush of Blood to the Head   2002-08-27          88  "
            ],
            "text/html": [
              "\n",
              "  <div id=\"df-774ca68b-7dc4-4459-a854-636b9d5e2c37\" class=\"colab-df-container\">\n",
              "    <div>\n",
              "<style scoped>\n",
              "    .dataframe tbody tr th:only-of-type {\n",
              "        vertical-align: middle;\n",
              "    }\n",
              "\n",
              "    .dataframe tbody tr th {\n",
              "        vertical-align: top;\n",
              "    }\n",
              "\n",
              "    .dataframe thead th {\n",
              "        text-align: right;\n",
              "    }\n",
              "</style>\n",
              "<table border=\"1\" class=\"dataframe\">\n",
              "  <thead>\n",
              "    <tr style=\"text-align: right;\">\n",
              "      <th></th>\n",
              "      <th>artist</th>\n",
              "      <th>track_name</th>\n",
              "      <th>track_id</th>\n",
              "      <th>album</th>\n",
              "      <th>release_date</th>\n",
              "      <th>popularity</th>\n",
              "    </tr>\n",
              "  </thead>\n",
              "  <tbody>\n",
              "    <tr>\n",
              "      <th>0</th>\n",
              "      <td>Coldplay</td>\n",
              "      <td>Sparks</td>\n",
              "      <td>7D0RhFcb3CrfPuTJ0obrod</td>\n",
              "      <td>Parachutes</td>\n",
              "      <td>2000-07-10</td>\n",
              "      <td>90</td>\n",
              "    </tr>\n",
              "    <tr>\n",
              "      <th>1</th>\n",
              "      <td>Coldplay</td>\n",
              "      <td>Paradise</td>\n",
              "      <td>6nek1Nin9q48AVZcWs9e9D</td>\n",
              "      <td>Mylo Xyloto</td>\n",
              "      <td>2011-10-24</td>\n",
              "      <td>84</td>\n",
              "    </tr>\n",
              "    <tr>\n",
              "      <th>2</th>\n",
              "      <td>Coldplay</td>\n",
              "      <td>A Sky Full of Stars</td>\n",
              "      <td>0FDzzruyVECATHXKHFs9eJ</td>\n",
              "      <td>Ghost Stories</td>\n",
              "      <td>2014-05-16</td>\n",
              "      <td>85</td>\n",
              "    </tr>\n",
              "    <tr>\n",
              "      <th>3</th>\n",
              "      <td>Coldplay</td>\n",
              "      <td>Something Just Like This</td>\n",
              "      <td>6RUKPb4LETWmmr3iAEQktW</td>\n",
              "      <td>Memories...Do Not Open</td>\n",
              "      <td>2017-04-07</td>\n",
              "      <td>86</td>\n",
              "    </tr>\n",
              "    <tr>\n",
              "      <th>4</th>\n",
              "      <td>Coldplay</td>\n",
              "      <td>The Scientist</td>\n",
              "      <td>75JFxkI2RXiU7L9VXzMkle</td>\n",
              "      <td>A Rush of Blood to the Head</td>\n",
              "      <td>2002-08-27</td>\n",
              "      <td>88</td>\n",
              "    </tr>\n",
              "  </tbody>\n",
              "</table>\n",
              "</div>\n",
              "    <div class=\"colab-df-buttons\">\n",
              "\n",
              "  <div class=\"colab-df-container\">\n",
              "    <button class=\"colab-df-convert\" onclick=\"convertToInteractive('df-774ca68b-7dc4-4459-a854-636b9d5e2c37')\"\n",
              "            title=\"Convert this dataframe to an interactive table.\"\n",
              "            style=\"display:none;\">\n",
              "\n",
              "  <svg xmlns=\"http://www.w3.org/2000/svg\" height=\"24px\" viewBox=\"0 -960 960 960\">\n",
              "    <path d=\"M120-120v-720h720v720H120Zm60-500h600v-160H180v160Zm220 220h160v-160H400v160Zm0 220h160v-160H400v160ZM180-400h160v-160H180v160Zm440 0h160v-160H620v160ZM180-180h160v-160H180v160Zm440 0h160v-160H620v160Z\"/>\n",
              "  </svg>\n",
              "    </button>\n",
              "\n",
              "  <style>\n",
              "    .colab-df-container {\n",
              "      display:flex;\n",
              "      gap: 12px;\n",
              "    }\n",
              "\n",
              "    .colab-df-convert {\n",
              "      background-color: #E8F0FE;\n",
              "      border: none;\n",
              "      border-radius: 50%;\n",
              "      cursor: pointer;\n",
              "      display: none;\n",
              "      fill: #1967D2;\n",
              "      height: 32px;\n",
              "      padding: 0 0 0 0;\n",
              "      width: 32px;\n",
              "    }\n",
              "\n",
              "    .colab-df-convert:hover {\n",
              "      background-color: #E2EBFA;\n",
              "      box-shadow: 0px 1px 2px rgba(60, 64, 67, 0.3), 0px 1px 3px 1px rgba(60, 64, 67, 0.15);\n",
              "      fill: #174EA6;\n",
              "    }\n",
              "\n",
              "    .colab-df-buttons div {\n",
              "      margin-bottom: 4px;\n",
              "    }\n",
              "\n",
              "    [theme=dark] .colab-df-convert {\n",
              "      background-color: #3B4455;\n",
              "      fill: #D2E3FC;\n",
              "    }\n",
              "\n",
              "    [theme=dark] .colab-df-convert:hover {\n",
              "      background-color: #434B5C;\n",
              "      box-shadow: 0px 1px 3px 1px rgba(0, 0, 0, 0.15);\n",
              "      filter: drop-shadow(0px 1px 2px rgba(0, 0, 0, 0.3));\n",
              "      fill: #FFFFFF;\n",
              "    }\n",
              "  </style>\n",
              "\n",
              "    <script>\n",
              "      const buttonEl =\n",
              "        document.querySelector('#df-774ca68b-7dc4-4459-a854-636b9d5e2c37 button.colab-df-convert');\n",
              "      buttonEl.style.display =\n",
              "        google.colab.kernel.accessAllowed ? 'block' : 'none';\n",
              "\n",
              "      async function convertToInteractive(key) {\n",
              "        const element = document.querySelector('#df-774ca68b-7dc4-4459-a854-636b9d5e2c37');\n",
              "        const dataTable =\n",
              "          await google.colab.kernel.invokeFunction('convertToInteractive',\n",
              "                                                    [key], {});\n",
              "        if (!dataTable) return;\n",
              "\n",
              "        const docLinkHtml = 'Like what you see? Visit the ' +\n",
              "          '<a target=\"_blank\" href=https://colab.research.google.com/notebooks/data_table.ipynb>data table notebook</a>'\n",
              "          + ' to learn more about interactive tables.';\n",
              "        element.innerHTML = '';\n",
              "        dataTable['output_type'] = 'display_data';\n",
              "        await google.colab.output.renderOutput(dataTable, element);\n",
              "        const docLink = document.createElement('div');\n",
              "        docLink.innerHTML = docLinkHtml;\n",
              "        element.appendChild(docLink);\n",
              "      }\n",
              "    </script>\n",
              "  </div>\n",
              "\n",
              "\n",
              "    <div id=\"df-7866f7a1-4308-421c-9737-4bdbcfe12dd4\">\n",
              "      <button class=\"colab-df-quickchart\" onclick=\"quickchart('df-7866f7a1-4308-421c-9737-4bdbcfe12dd4')\"\n",
              "                title=\"Suggest charts\"\n",
              "                style=\"display:none;\">\n",
              "\n",
              "<svg xmlns=\"http://www.w3.org/2000/svg\" height=\"24px\"viewBox=\"0 0 24 24\"\n",
              "     width=\"24px\">\n",
              "    <g>\n",
              "        <path d=\"M19 3H5c-1.1 0-2 .9-2 2v14c0 1.1.9 2 2 2h14c1.1 0 2-.9 2-2V5c0-1.1-.9-2-2-2zM9 17H7v-7h2v7zm4 0h-2V7h2v10zm4 0h-2v-4h2v4z\"/>\n",
              "    </g>\n",
              "</svg>\n",
              "      </button>\n",
              "\n",
              "<style>\n",
              "  .colab-df-quickchart {\n",
              "      --bg-color: #E8F0FE;\n",
              "      --fill-color: #1967D2;\n",
              "      --hover-bg-color: #E2EBFA;\n",
              "      --hover-fill-color: #174EA6;\n",
              "      --disabled-fill-color: #AAA;\n",
              "      --disabled-bg-color: #DDD;\n",
              "  }\n",
              "\n",
              "  [theme=dark] .colab-df-quickchart {\n",
              "      --bg-color: #3B4455;\n",
              "      --fill-color: #D2E3FC;\n",
              "      --hover-bg-color: #434B5C;\n",
              "      --hover-fill-color: #FFFFFF;\n",
              "      --disabled-bg-color: #3B4455;\n",
              "      --disabled-fill-color: #666;\n",
              "  }\n",
              "\n",
              "  .colab-df-quickchart {\n",
              "    background-color: var(--bg-color);\n",
              "    border: none;\n",
              "    border-radius: 50%;\n",
              "    cursor: pointer;\n",
              "    display: none;\n",
              "    fill: var(--fill-color);\n",
              "    height: 32px;\n",
              "    padding: 0;\n",
              "    width: 32px;\n",
              "  }\n",
              "\n",
              "  .colab-df-quickchart:hover {\n",
              "    background-color: var(--hover-bg-color);\n",
              "    box-shadow: 0 1px 2px rgba(60, 64, 67, 0.3), 0 1px 3px 1px rgba(60, 64, 67, 0.15);\n",
              "    fill: var(--button-hover-fill-color);\n",
              "  }\n",
              "\n",
              "  .colab-df-quickchart-complete:disabled,\n",
              "  .colab-df-quickchart-complete:disabled:hover {\n",
              "    background-color: var(--disabled-bg-color);\n",
              "    fill: var(--disabled-fill-color);\n",
              "    box-shadow: none;\n",
              "  }\n",
              "\n",
              "  .colab-df-spinner {\n",
              "    border: 2px solid var(--fill-color);\n",
              "    border-color: transparent;\n",
              "    border-bottom-color: var(--fill-color);\n",
              "    animation:\n",
              "      spin 1s steps(1) infinite;\n",
              "  }\n",
              "\n",
              "  @keyframes spin {\n",
              "    0% {\n",
              "      border-color: transparent;\n",
              "      border-bottom-color: var(--fill-color);\n",
              "      border-left-color: var(--fill-color);\n",
              "    }\n",
              "    20% {\n",
              "      border-color: transparent;\n",
              "      border-left-color: var(--fill-color);\n",
              "      border-top-color: var(--fill-color);\n",
              "    }\n",
              "    30% {\n",
              "      border-color: transparent;\n",
              "      border-left-color: var(--fill-color);\n",
              "      border-top-color: var(--fill-color);\n",
              "      border-right-color: var(--fill-color);\n",
              "    }\n",
              "    40% {\n",
              "      border-color: transparent;\n",
              "      border-right-color: var(--fill-color);\n",
              "      border-top-color: var(--fill-color);\n",
              "    }\n",
              "    60% {\n",
              "      border-color: transparent;\n",
              "      border-right-color: var(--fill-color);\n",
              "    }\n",
              "    80% {\n",
              "      border-color: transparent;\n",
              "      border-right-color: var(--fill-color);\n",
              "      border-bottom-color: var(--fill-color);\n",
              "    }\n",
              "    90% {\n",
              "      border-color: transparent;\n",
              "      border-bottom-color: var(--fill-color);\n",
              "    }\n",
              "  }\n",
              "</style>\n",
              "\n",
              "      <script>\n",
              "        async function quickchart(key) {\n",
              "          const quickchartButtonEl =\n",
              "            document.querySelector('#' + key + ' button');\n",
              "          quickchartButtonEl.disabled = true;  // To prevent multiple clicks.\n",
              "          quickchartButtonEl.classList.add('colab-df-spinner');\n",
              "          try {\n",
              "            const charts = await google.colab.kernel.invokeFunction(\n",
              "                'suggestCharts', [key], {});\n",
              "          } catch (error) {\n",
              "            console.error('Error during call to suggestCharts:', error);\n",
              "          }\n",
              "          quickchartButtonEl.classList.remove('colab-df-spinner');\n",
              "          quickchartButtonEl.classList.add('colab-df-quickchart-complete');\n",
              "        }\n",
              "        (() => {\n",
              "          let quickchartButtonEl =\n",
              "            document.querySelector('#df-7866f7a1-4308-421c-9737-4bdbcfe12dd4 button');\n",
              "          quickchartButtonEl.style.display =\n",
              "            google.colab.kernel.accessAllowed ? 'block' : 'none';\n",
              "        })();\n",
              "      </script>\n",
              "    </div>\n",
              "\n",
              "    </div>\n",
              "  </div>\n"
            ],
            "application/vnd.google.colaboratory.intrinsic+json": {
              "type": "dataframe",
              "variable_name": "df_tracks",
              "summary": "{\n  \"name\": \"df_tracks\",\n  \"rows\": 91,\n  \"fields\": [\n    {\n      \"column\": \"artist\",\n      \"properties\": {\n        \"dtype\": \"category\",\n        \"num_unique_values\": 10,\n        \"samples\": [\n          \"Mar\\u00edlia Mendon\\u00e7a\",\n          \"The Weeknd\",\n          \"Anitta\"\n        ],\n        \"semantic_type\": \"\",\n        \"description\": \"\"\n      }\n    },\n    {\n      \"column\": \"track_name\",\n      \"properties\": {\n        \"dtype\": \"string\",\n        \"num_unique_values\": 88,\n        \"samples\": [\n          \"Vou Ter Que Superar - Ao Vivo\",\n          \"Sparks\",\n          \"The Fate of Ophelia\"\n        ],\n        \"semantic_type\": \"\",\n        \"description\": \"\"\n      }\n    },\n    {\n      \"column\": \"track_id\",\n      \"properties\": {\n        \"dtype\": \"string\",\n        \"num_unique_values\": 91,\n        \"samples\": [\n          \"0GRc3eGTg8HBdWLRGYgqIc\",\n          \"0pqnGHJpmpxLKifKRmU6WP\",\n          \"2KGv51jgAz8OTjNPyRryfq\"\n        ],\n        \"semantic_type\": \"\",\n        \"description\": \"\"\n      }\n    },\n    {\n      \"column\": \"album\",\n      \"properties\": {\n        \"dtype\": \"string\",\n        \"num_unique_values\": 61,\n        \"samples\": [\n          \"Parachutes\",\n          \"Viva La Vida or Death and All His Friends\",\n          \"O Nosso Tempo \\u00c9 Hoje (ao Vivo)\"\n        ],\n        \"semantic_type\": \"\",\n        \"description\": \"\"\n      }\n    },\n    {\n      \"column\": \"release_date\",\n      \"properties\": {\n        \"dtype\": \"string\",\n        \"num_unique_values\": 62,\n        \"samples\": [\n          \"2023-05-12\",\n          \"2021-10-22\",\n          \"2000-07-10\"\n        ],\n        \"semantic_type\": \"\",\n        \"description\": \"\"\n      }\n    },\n    {\n      \"column\": \"popularity\",\n      \"properties\": {\n        \"dtype\": \"number\",\n        \"std\": 12,\n        \"min\": 34,\n        \"max\": 100,\n        \"num_unique_values\": 39,\n        \"samples\": [\n          73,\n          56,\n          88\n        ],\n        \"semantic_type\": \"\",\n        \"description\": \"\"\n      }\n    }\n  ]\n}"
            }
          },
          "metadata": {},
          "execution_count": 6
        }
      ],
      "source": [
        "# 5) Consumo dos dados\n",
        "\n",
        "# Lista de artistas (exemplo: global + BR)\n",
        "artists = [\n",
        "    \"Coldplay\", \"The Weeknd\", \"Imagine Dragons\", \"Taylor Swift\", \"Ed Sheeran\",\n",
        "    \"Anitta\", \"Jorge & Mateus\", \"Luan Santana\", \"Marília Mendonça\", \"Melim\"\n",
        "]\n",
        "\n",
        "tracks_data = []\n",
        "\n",
        "for artist in artists:\n",
        "    results = sp.search(q=f\"artist:{artist}\", type=\"track\", limit=10)\n",
        "    for track in results[\"tracks\"][\"items\"]:\n",
        "        tracks_data.append({\n",
        "            \"artist\": artist,\n",
        "            \"track_name\": track[\"name\"],\n",
        "            \"track_id\": track[\"id\"],\n",
        "            \"album\": track[\"album\"][\"name\"],\n",
        "            \"release_date\": track[\"album\"][\"release_date\"],\n",
        "            \"popularity\": track[\"popularity\"]\n",
        "        })\n",
        "\n",
        "df_tracks = pd.DataFrame(tracks_data)\n",
        "print(f\"Total de faixas coletadas: {len(df_tracks)}\")\n",
        "df_tracks.head()\n"
      ]
    },
    {
      "cell_type": "markdown",
      "id": "4bb6efa6",
      "metadata": {
        "id": "4bb6efa6"
      },
      "source": [
        "## 💾 3. Salvando Resultados"
      ]
    },
    {
      "cell_type": "code",
      "execution_count": 13,
      "id": "af865b0a",
      "metadata": {
        "colab": {
          "base_uri": "https://localhost:8080/"
        },
        "id": "af865b0a",
        "outputId": "874f056b-e62c-460c-8253-2a021c44f76a"
      },
      "outputs": [
        {
          "output_type": "stream",
          "name": "stdout",
          "text": [
            "Arquivos salvos com sucesso:\n",
            "/content/drive/MyDrive/DATA_ENG/SPOTIFY_DATA/output/csv/spotify_tracks_artists.csv\n",
            "/content/drive/MyDrive/DATA_ENG/SPOTIFY_DATA/output/parquet/spotify_tracks_artists.parquet\n"
          ]
        }
      ],
      "source": [
        "# 6) Salvando os arquivos CSV e Parquet no Drive\n",
        "\n",
        "DRIVE_BASE = '/content/drive/MyDrive/DATA_ENG/SPOTIFY_DATA/output'\n",
        "\n",
        "output_csv = os.path.join(DRIVE_BASE, \"csv/spotify_tracks_artists.csv\")\n",
        "output_parquet = os.path.join(DRIVE_BASE, \"parquet/spotify_tracks_artists.parquet\")\n",
        "\n",
        "df_tracks.to_csv(output_csv, index=False)\n",
        "df_tracks.to_parquet(output_parquet, index=False)\n",
        "\n",
        "print(\"Arquivos salvos com sucesso:\")\n",
        "print(output_csv)\n",
        "print(output_parquet)\n"
      ]
    },
    {
      "cell_type": "markdown",
      "id": "c53c3132",
      "metadata": {
        "id": "c53c3132"
      },
      "source": [
        "## 📊 4. Visualização de Popularidade Média"
      ]
    },
    {
      "cell_type": "code",
      "execution_count": 14,
      "id": "6bfa0ff7",
      "metadata": {
        "colab": {
          "base_uri": "https://localhost:8080/",
          "height": 596
        },
        "id": "6bfa0ff7",
        "outputId": "12627c75-8304-4232-9bae-71f678b1a5d2"
      },
      "outputs": [
        {
          "output_type": "display_data",
          "data": {
            "text/plain": [
              "<Figure size 1000x500 with 1 Axes>"
            ],
            "image/png": "[encoded data removed]"
          },
          "metadata": {}
        }
      ],
      "source": [
        "# 7) Gerando gráfico exemplo de média de popularidade\n",
        "\n",
        "import matplotlib.pyplot as plt\n",
        "\n",
        "df_plot = df_tracks.groupby(\"artist\")[\"popularity\"].mean().sort_values(ascending=False)\n",
        "df_plot.plot(kind=\"bar\", figsize=(10,5), title=\"Popularidade Média por Artista\")\n",
        "plt.ylabel(\"Popularidade Média\")\n",
        "plt.show()\n"
      ]
    }
  ],
  "metadata": {
    "colab": {
      "provenance": [],
      "include_colab_link": true
    },
    "language_info": {
      "name": "python"
    },
    "kernelspec": {
      "name": "python3",
      "display_name": "Python 3"
    }
  },
  "nbformat": 4,
  "nbformat_minor": 5
}